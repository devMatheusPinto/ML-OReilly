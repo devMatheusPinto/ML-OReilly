{
 "cells": [
  {
   "cell_type": "code",
   "execution_count": 18,
   "metadata": {},
   "outputs": [],
   "source": [
    "import matplotlib.pyplot as plt\n",
    "import pandas as pd\n",
    "import socket\n",
    "socket.gethostbyname(\"\")\n",
    "\n",
    "from sklearn import (\n",
    "    ensemble,\n",
    "    preprocessing,\n",
    "    tree,\n",
    ")\n",
    "\n",
    "from sklearn.metrics import (\n",
    "    auc,\n",
    "    confusion_matrix,\n",
    "    roc_auc_score,\n",
    "    roc_curve,\n",
    ")\n",
    "\n",
    "from sklearn.model_selection import(\n",
    "    train_test_split,\n",
    "    StratifiedKFold,\n",
    ")\n",
    "\n",
    "from yellowbrick.classifier import(\n",
    "    ConfusionMatrix,\n",
    "    ROCAUC,\n",
    ")\n",
    "\n",
    "from yellowbrick.model_selection import(\n",
    "    LearningCurve,\n",
    ")\n",
    "\n",
    "\n",
    "url = (\n",
    "    \"https://hbiostat.org/data/repo/titanic3.xls\"\n",
    ")\n",
    "df = pd.read_excel(url)\n",
    "orig_df = df\n",
    "\n",
    "\n"
   ]
  }
 ],
 "metadata": {
  "kernelspec": {
   "display_name": "Python 3.10.6 64-bit",
   "language": "python",
   "name": "python3"
  },
  "language_info": {
   "codemirror_mode": {
    "name": "ipython",
    "version": 3
   },
   "file_extension": ".py",
   "mimetype": "text/x-python",
   "name": "python",
   "nbconvert_exporter": "python",
   "pygments_lexer": "ipython3",
   "version": "3.10.6"
  },
  "orig_nbformat": 4,
  "vscode": {
   "interpreter": {
    "hash": "aee8b7b246df8f9039afb4144a1f6fd8d2ca17a180786b69acc140d282b71a49"
   }
  }
 },
 "nbformat": 4,
 "nbformat_minor": 2
}
